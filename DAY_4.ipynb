{
 "cells": [
  {
   "cell_type": "markdown",
   "metadata": {},
   "source": [
    "## Regular Expression (RegEx) in Python with Examples"
   ]
  },
  {
   "cell_type": "markdown",
   "metadata": {},
   "source": [
    "A Regular Expression or RegEx is a special sequence of characters that uses a search pattern to find a string or set of strings.\n",
    "\n",
    "It can detect the presence or absence of a text by matching it with a particular pattern and also can split a pattern into one or more sub-patterns."
   ]
  },
  {
   "cell_type": "markdown",
   "metadata": {},
   "source": []
  },
  {
   "cell_type": "markdown",
   "metadata": {},
   "source": [
    "### Regex Module in Python"
   ]
  },
  {
   "cell_type": "markdown",
   "metadata": {},
   "source": [
    "Python has a built-in module named “re” that is used for regular expressions in Python. We can import this module by using the import statement."
   ]
  },
  {
   "cell_type": "markdown",
   "metadata": {},
   "source": [
    "Example: Importing re module in Python "
   ]
  },
  {
   "cell_type": "code",
   "execution_count": 1,
   "metadata": {},
   "outputs": [],
   "source": [
    "# importing re module \n",
    "import re"
   ]
  },
  {
   "cell_type": "markdown",
   "metadata": {},
   "source": [
    "### How to Use RegEx in Python?\n",
    "You can use RegEx in Python after importing re module.\n",
    "\n",
    "#### Example:\n",
    "This Python code uses regular expressions to search for the word “portal” in the given string and then prints the start and end indices of the matched word within the string."
   ]
  },
  {
   "cell_type": "code",
   "execution_count": 2,
   "metadata": {},
   "outputs": [
    {
     "name": "stdout",
     "output_type": "stream",
     "text": [
      "Start Index: 34\n",
      "End Index: 40\n"
     ]
    }
   ],
   "source": [
    "import re \n",
    "  \n",
    "s = 'GeeksforGeeks: A computer science portal for geeks'\n",
    "  \n",
    "match = re.search(r'portal', s) \n",
    "  \n",
    "print('Start Index:', match.start()) \n",
    "print('End Index:', match.end())"
   ]
  },
  {
   "cell_type": "markdown",
   "metadata": {},
   "source": [
    "#### Note:\n",
    " Here r character (r’portal’) stands for raw, not regex. The raw string is slightly different from a regular string, it won’t interpret the \\ character as an escape character. This is because the regular expression engine uses \\ character for its own escaping purpose.\n",
    "\n",
    "Before starting with the Python regex module let’s see how to actually write regex using metacharacters or special sequences. "
   ]
  },
  {
   "cell_type": "markdown",
   "metadata": {},
   "source": [
    "## Metacharacters\n",
    "Metacharacters are the characters with special meaning.\n",
    "\n",
    "To understand the RE analogy, Metacharacters are useful and important. They will be used in functions of module re. Below is the list of metacharacters."
   ]
  },
  {
   "cell_type": "markdown",
   "metadata": {},
   "source": [
    "| **MetaCharacters** | **Description**                                                                 |\n",
    "|--------------------|---------------------------------------------------------------------------------|\n",
    "| `\\`                | Used to drop the special meaning of character following it                      |\n",
    "| `[]`               | Represent a character class                                                     |\n",
    "| `^`                | Matches the beginning                                                           |\n",
    "| `$`                | Matches the end                                                                 |\n",
    "| `.`                | Matches any character except newline                                            |\n",
    "| `|`                | Means OR (Matches with any of the characters separated by it)                   |\n",
    "| `?`                | Matches zero or one occurrence                                                  |\n",
    "| `*`                | Any number of occurrences (including 0 occurrences)                             |\n",
    "| `+`                | One or more occurrences                                                         |\n",
    "| `{}`               | Indicate the number of occurrences of a preceding regex to match                |\n",
    "| `()`               | Enclose a group of Regex                                                        |\n"
   ]
  },
  {
   "cell_type": "markdown",
   "metadata": {},
   "source": []
  },
  {
   "cell_type": "markdown",
   "metadata": {},
   "source": [
    "Let’s discuss each of these metacharacters in detail:"
   ]
  },
  {
   "cell_type": "markdown",
   "metadata": {},
   "source": [
    "### 1. \\ – Backslash"
   ]
  },
  {
   "cell_type": "markdown",
   "metadata": {},
   "source": [
    "the backslash (\\) makes sure that the character is not treated in a special way. This can be considered a way of escaping metacharacters.\n",
    "\n",
    "For example, if you want to search for the dot(.) in the string then you will find that dot(.) will be treated as a special character as is one of the metacharacters (as shown in the above table). So for this case, we will use the backslash(\\) just before the dot(.) so that it will lose its specialty. See the below example for a better understanding."
   ]
  },
  {
   "cell_type": "markdown",
   "metadata": {},
   "source": [
    "#### Example: \n",
    "The first search (re.search(r'.', s)) matches any character, not just the period, while the second search (re.search(r'\\.', s)) specifically looks for and matches the period character."
   ]
  },
  {
   "cell_type": "code",
   "execution_count": 3,
   "metadata": {},
   "outputs": [
    {
     "name": "stdout",
     "output_type": "stream",
     "text": [
      "<re.Match object; span=(0, 1), match='g'>\n",
      "<re.Match object; span=(5, 6), match='.'>\n"
     ]
    }
   ],
   "source": [
    "import re \n",
    "\n",
    "s = 'geeks.forgeeks'\n",
    "\n",
    "# without using \\ \n",
    "match = re.search(r'.', s) \n",
    "print(match) \n",
    "\n",
    "# using \\ \n",
    "match = re.search(r'\\.', s) \n",
    "print(match) \n"
   ]
  },
  {
   "cell_type": "markdown",
   "metadata": {},
   "source": [
    "### 2. [] – Square Brackets"
   ]
  },
  {
   "cell_type": "markdown",
   "metadata": {},
   "source": [
    "Square Brackets ([]) represent a character class consisting of a set of characters that we wish to match. For example, the character class [abc] will match any single a, b, or c. \n",
    "\n",
    "We can also specify a range of characters using – inside the square brackets.\n",
    "#### For example \n",
    "\n",
    "- [0, 3] is sample as [0123]\n",
    "- [a-c] is same as [abc]\n",
    "\n",
    "We can also invert the character class using the caret(^) symbol. For example, \n",
    "\n",
    "- [^0-3] means any number except 0, 1, 2, or 3\n",
    "- [^a-c] means any character except a, b, or c\n",
    "\n",
    "Example:\n",
    "In this code, you’re using regular expressions to find all the characters in the string that fall within the range of ‘a’ to ‘m’. The re.findall() function returns a list of all such characters. In the given string, the characters that match this pattern are: ‘c’, ‘k’, ‘b’, ‘f’, ‘j’, ‘e’, ‘h’, ‘l’, ‘d’, ‘g’."
   ]
  },
  {
   "cell_type": "code",
   "execution_count": 4,
   "metadata": {},
   "outputs": [
    {
     "name": "stdout",
     "output_type": "stream",
     "text": [
      "['h', 'e', 'i', 'c', 'k', 'b', 'f', 'j', 'm', 'e', 'h', 'e', 'l', 'a', 'd', 'g']\n"
     ]
    }
   ],
   "source": [
    "import re \n",
    "  \n",
    "string = \"The quick brown fox jumps over the lazy dog\"\n",
    "pattern = \"[a-m]\"\n",
    "result = re.findall(pattern, string) \n",
    "  \n",
    "print(result)"
   ]
  },
  {
   "cell_type": "markdown",
   "metadata": {},
   "source": []
  },
  {
   "cell_type": "markdown",
   "metadata": {},
   "source": [
    "### 3. ^ – Caret\n",
    "Caret (^) symbol matches the beginning of the string i.e. checks whether the string starts with the given character(s) or not. For example –  \n",
    "\n",
    "- ^g will check if the string starts with g such as geeks, globe, girl, g, etc.\n",
    "- ^ge will check if the string starts with ge such as geeks, geeksforgeeks, etc.\n",
    "\n",
    "Example:\n",
    "\n",
    "This code uses regular expressions to check if a list of strings starts with “The”. If a string begins with “The,” it’s marked as 'Matched' otherwise, it’s labeled as “Not matched”."
   ]
  },
  {
   "cell_type": "code",
   "execution_count": 7,
   "metadata": {},
   "outputs": [
    {
     "name": "stdout",
     "output_type": "stream",
     "text": [
      "Matched: The quick brown fox\n",
      "Matched: The lazy dog\n",
      "Not matched: A quick brown fox\n"
     ]
    }
   ],
   "source": [
    "import re \n",
    "regex = r'^The'\n",
    "strings = ['The quick brown fox', 'The lazy dog', 'A quick brown fox'] \n",
    "for string in strings: \n",
    "\tif re.match(regex, string): \n",
    "\t\tprint(f'Matched: {string}') \n",
    "\telse: \n",
    "\t\tprint(f'Not matched: {string}') \n"
   ]
  },
  {
   "cell_type": "markdown",
   "metadata": {},
   "source": []
  },
  {
   "cell_type": "markdown",
   "metadata": {},
   "source": [
    "### 4. $ – Dollar\n",
    "Dollar($) symbol matches the end of the string i.e checks whether the string ends with the given character(s) or not. For example-\n",
    "\n",
    "- s$ will check for the string that ends with a such as geeks, ends, s, etc.\n",
    "- ks$ will check for the string that ends with ks such as geeks, geeksforgeeks, ks, etc.\n",
    "\n",
    "Example:\n",
    "\n",
    "This code uses a regular expression to check if the string ends with “World!”. If a match is found, it prints “Match found!” otherwise, it prints “Match not found”."
   ]
  },
  {
   "cell_type": "code",
   "execution_count": 10,
   "metadata": {},
   "outputs": [
    {
     "name": "stdout",
     "output_type": "stream",
     "text": [
      "Match found!\n"
     ]
    }
   ],
   "source": [
    "import re \n",
    "\n",
    "string = \"Hello World!\"\n",
    "pattern = r\"World!$\"\n",
    "\n",
    "match = re.search(pattern, string) \n",
    "if match: \n",
    "\tprint(\"Match found!\") \n",
    "else: \n",
    "\tprint(\"Match not found.\") \n"
   ]
  },
  {
   "cell_type": "markdown",
   "metadata": {},
   "source": [
    "### 5. . – Dot\n",
    "Dot(.) symbol matches only a single character except for the newline character (\\n). For example –  \n",
    "\n",
    "- a.b will check for the string that contains any character at the place of the dot such as acb, acbd, abbb, etc\n",
    "- .. will check if the string contains at least 2 characters\n",
    "\n",
    "Example:\n",
    "\n",
    "This code uses a regular expression to search for the pattern “brown.fox” within the string. The dot (.) in the pattern represents any character. If a match is found, it prints “Match found!” otherwise, it prints “Match not found”."
   ]
  },
  {
   "cell_type": "code",
   "execution_count": 16,
   "metadata": {},
   "outputs": [
    {
     "name": "stdout",
     "output_type": "stream",
     "text": [
      "Match found!\n"
     ]
    }
   ],
   "source": [
    "import re \n",
    "\n",
    "string = \"The quick brown fox jumps over the lazy dog.\"\n",
    "pattern = r\"brown.fox.jumps\"\n",
    "\n",
    "match = re.search(pattern, string) \n",
    "if match: \n",
    "\tprint(\"Match found!\") \n",
    "else: \n",
    "\tprint(\"Match not found.\") \n"
   ]
  },
  {
   "cell_type": "markdown",
   "metadata": {},
   "source": [
    "#### 6. | – Or\n",
    "Or symbol works as the or operator meaning it checks whether the pattern before or after the or symbol is present in the string or not. For example –  \n",
    "\n",
    "- a|b will match any string that contains a or b such as acd, bcd, abcd, etc."
   ]
  },
  {
   "cell_type": "markdown",
   "metadata": {},
   "source": [
    "#### 7. ? – Question Mark\n",
    "The question mark (?) is a quantifier in regular expressions that indicates that the preceding element should be matched zero or one time. It allows you to specify that the element is optional, meaning it may occur once or not at all. For example,\n",
    "\n",
    "\n",
    "- ab?c will be matched for the string ac, acb, dabc but will not be matched for abbc because there are two b. Similarly, it will not be matched for abdc because b is not followed by c."
   ]
  },
  {
   "cell_type": "markdown",
   "metadata": {},
   "source": [
    "#### 8.* – Star\n",
    "Star (*) symbol matches zero or more occurrences of the regex preceding the * symbol. For example –  \n",
    "\n",
    "- ab*c will be matched for the string ac, abc, abbbc, dabc, etc. but will not be matched for abdc because b is not followed by c."
   ]
  },
  {
   "cell_type": "markdown",
   "metadata": {},
   "source": [
    "#### 9. + – Plus\n",
    "Plus (+) symbol matches one or more occurrences of the regex preceding the + symbol. For example –  \n",
    "\n",
    "- ab+c will be matched for the string abc, abbc, dabc, but will not be matched for ac, abdc, because there is no b in ac and b, is not followed by c in abdc."
   ]
  },
  {
   "cell_type": "markdown",
   "metadata": {},
   "source": [
    "###3 10. {m, n} – Braces\n",
    "Braces match any repetitions preceding regex from m to n both inclusive. For example –  \n",
    "\n",
    "- a{2, 4} will be matched for the string aaab, baaaac, gaad, but will not be matched for strings like abc, bc because there is only one a or no a in both the cases."
   ]
  },
  {
   "cell_type": "markdown",
   "metadata": {},
   "source": [
    "#### 11. (<regex>) – Group\n",
    "Group symbol is used to group sub-patterns. For example –  \n",
    "\n",
    "- (a|b)cd will match for strings like acd, abcd, gacd, etc."
   ]
  },
  {
   "cell_type": "markdown",
   "metadata": {},
   "source": [
    "### Special Sequences"
   ]
  },
  {
   "cell_type": "markdown",
   "metadata": {},
   "source": [
    "Special sequences do not match for the actual character in the string instead it tells the specific location in the search string where the match must occur. It makes it easier to write commonly used patterns"
   ]
  },
  {
   "cell_type": "markdown",
   "metadata": {},
   "source": [
    "List of special sequences \n"
   ]
  },
  {
   "cell_type": "markdown",
   "metadata": {},
   "source": [
    "| **Special Sequence** | **Description**                                                                                       | **Examples**        |\n",
    "|----------------------|-------------------------------------------------------------------------------------------------------|---------------------|\n",
    "| `\\A`                 | Matches if the string begins with the given character                                                 | `\\Afor` <br> `for geeks` <br> `for the world` |\n",
    "| `\\b`                 | Matches if the word begins or ends with the given character. <br> `\\b(string)` will check for the beginning of the word and `(string)\\b` will check for the ending of the word. | `\\bge` <br> `geeks` <br> `get`  |\n",
    "| `\\B`                 | It is the opposite of the `\\b` i.e. the string should not start or end with the given regex.           | `\\Bge` <br> `together` <br> `forge` |\n",
    "| `\\d`                 | Matches any decimal digit, this is equivalent to the set class `[0-9]`                                 | `\\d` <br> `123` <br> `gee1` |\n",
    "| `\\D`                 | Matches any non-digit character, this is equivalent to the set class `[^0-9]`                          | `\\D` <br> `geeks` <br> `geek1` |\n",
    "| `\\s`                 | Matches any whitespace character.                                                                      | `\\s` <br> `gee ks` <br> `a bc a` |\n",
    "| `\\S`                 | Matches any non-whitespace character                                                                   | `\\S` <br> `a bd` <br> `abcd` |\n",
    "| `\\w`                 | Matches any alphanumeric character, this is equivalent to the class `[a-zA-Z0-9_]`.                    | `\\w` <br> `123` <br> `geeKs4` |\n",
    "| `\\W`                 | Matches any non-alphanumeric character.                                                                | `\\W` <br> `>$` <br> `gee<>` |\n",
    "| `\\Z`                 | Matches if the string ends with the given regex                                                        | `ab\\Z` <br> `abcdab` <br> `abababab` |\n"
   ]
  },
  {
   "cell_type": "markdown",
   "metadata": {},
   "source": [
    "#### RegEx Functions\n",
    "re module contains many functions that help us to search a string for a match.\n",
    "\n",
    "Let’s see various functions provided by this module to work with regex in Python. "
   ]
  },
  {
   "cell_type": "markdown",
   "metadata": {},
   "source": [
    "| **Function**       | **Description**                                                                       |\n",
    "|--------------------|---------------------------------------------------------------------------------------|\n",
    "| `re.findall()`     | Finds and returns all matching occurrences in a list                                  |\n",
    "| `re.compile()`     | Regular expressions are compiled into pattern objects                                 |\n",
    "| `re.split()`       | Split string by the occurrences of a character or a pattern                           |\n",
    "| `re.sub()`         | Replaces all occurrences of a character or pattern with a replacement string          |\n",
    "| `re.escape()`      | Escapes special characters                                                            |\n",
    "| `re.search()`      | Searches for the first occurrence of a character or pattern                           |\n"
   ]
  },
  {
   "cell_type": "markdown",
   "metadata": {},
   "source": [
    "Let’s see the working of these RegEx functions with definition and examples:"
   ]
  },
  {
   "cell_type": "markdown",
   "metadata": {},
   "source": [
    "### 1. re.findall()\n",
    "Return all non-overlapping matches of pattern in string, as a list of strings. The string is scanned left-to-right, and matches are returned in the order found.\n",
    "\n",
    "\n",
    "Finding all occurrences of a pattern \n",
    "\n",
    "\n",
    "This code uses a regular expression (\\d+) to find all the sequences of one or more digits in the given string. It searches for numeric values and stores them in a list. In this example, it finds and prints the numbers “123456789” and “987654321” from the input string."
   ]
  },
  {
   "cell_type": "code",
   "execution_count": 17,
   "metadata": {},
   "outputs": [
    {
     "name": "stdout",
     "output_type": "stream",
     "text": [
      "['123456789', '987654321']\n"
     ]
    }
   ],
   "source": [
    "import re \n",
    "string = \"\"\"Hello my Number is 123456789 and \n",
    "\t\t\tmy friend's number is 987654321\"\"\"\n",
    "regex = '\\d+'\n",
    "\n",
    "match = re.findall(regex, string) \n",
    "print(match) \n"
   ]
  },
  {
   "cell_type": "markdown",
   "metadata": {},
   "source": [
    "### 2. re.compile() \n",
    "Regular expressions are compiled into pattern objects, which have methods for various operations such as searching for pattern matches or performing string substitutions. \n",
    "\n",
    "Example 1:\n",
    "\n",
    "The code uses a regular expression pattern [a-e] to find and list all lowercase letters from ‘a’ to ‘e’ in the input string “Aye, said Mr. Gibenson Stark”. The output will be ['e', 'a', 'd', 'b', 'e'], which are the matching characters."
   ]
  },
  {
   "cell_type": "code",
   "execution_count": 18,
   "metadata": {},
   "outputs": [
    {
     "name": "stdout",
     "output_type": "stream",
     "text": [
      "['e', 'a', 'd', 'b', 'e', 'a']\n"
     ]
    }
   ],
   "source": [
    "import re \n",
    "p = re.compile('[a-e]') \n",
    "\n",
    "print(p.findall(\"Aye, said Mr. Gibenson Stark\")) \n"
   ]
  },
  {
   "cell_type": "markdown",
   "metadata": {},
   "source": [
    "### Understanding the Output: \n",
    "\n",
    "- First occurrence is ‘e’ in “Aye” and not ‘A’, as it is Case Sensitive.\n",
    "- Next Occurrence is ‘a’ in “said”, then ‘d’ in “said”, followed by ‘b’ and ‘e’ in “Gibenson”, the Last ‘a’ matches with “Stark”.\n",
    "- Metacharacter backslash ‘\\’ has a very important role as it signals various sequences. If the backslash is to be used without its special meaning as metacharacter, use’\\\\’"
   ]
  },
  {
   "cell_type": "markdown",
   "metadata": {},
   "source": [
    "Example 2:\n",
    "\n",
    " Set class [\\s,.] will match any whitespace character,  ‘,’,  or, ‘.’ . \n",
    "\n",
    "The code uses regular expressions to find and list all single digits and sequences of digits in the given input strings. It finds single digits with \\d and sequences of digits with \\d+."
   ]
  },
  {
   "cell_type": "code",
   "execution_count": 19,
   "metadata": {},
   "outputs": [
    {
     "name": "stdout",
     "output_type": "stream",
     "text": [
      "['1', '1', '4', '1', '8', '8', '6']\n",
      "['11', '4', '1886']\n"
     ]
    }
   ],
   "source": [
    "import re \n",
    "p = re.compile('\\d') \n",
    "print(p.findall(\"I went to him at 11 A.M. on 4th July 1886\")) \n",
    "\n",
    "p = re.compile('\\d+') \n",
    "print(p.findall(\"I went to him at 11 A.M. on 4th July 1886\")) \n"
   ]
  },
  {
   "cell_type": "markdown",
   "metadata": {},
   "source": [
    "Example 3:\n",
    "\n",
    "\n",
    "The code uses regular expressions to find and list word characters, sequences of word characters, and non-word characters in input strings. It provides lists of the matched characters or sequences."
   ]
  },
  {
   "cell_type": "code",
   "execution_count": 21,
   "metadata": {},
   "outputs": [
    {
     "name": "stdout",
     "output_type": "stream",
     "text": [
      "['H', 'e', 's', 'a', 'i', 'd', 'i', 'n', 's', 'o', 'm', 'e', '_', 'l', 'a', 'n', 'g']\n",
      "['I', 'went', 'to', 'him', 'at', '11', 'A', 'M', 'he', 'said', 'in', 'some_language']\n",
      "[' ', ' ', '*', '*', '*', ' ', ' ', '.']\n"
     ]
    }
   ],
   "source": [
    "import re \n",
    "\n",
    "p = re.compile('\\w') \n",
    "print(p.findall(\"He said * in some_lang.\")) \n",
    "\n",
    "p = re.compile('\\w+') \n",
    "print(p.findall(\"I went to him at 11 A.M., he \\ said *** in some_language.\")) \n",
    "\n",
    "p = re.compile('\\W') \n",
    "print(p.findall(\"he said *** in some_language.\")) \n"
   ]
  },
  {
   "cell_type": "markdown",
   "metadata": {},
   "source": [
    "Example 4:\n",
    "\n",
    "The code uses a regular expression pattern ‘ab*’ to find and list all occurrences of ‘ab’ followed by zero or more ‘b’ characters in the input string “ababbaabbb”. It returns the following list of matches: [‘ab’, ‘abb’, ‘abbb’]."
   ]
  },
  {
   "cell_type": "code",
   "execution_count": 22,
   "metadata": {},
   "outputs": [
    {
     "name": "stdout",
     "output_type": "stream",
     "text": [
      "['ab', 'abb', 'a', 'abbb']\n"
     ]
    }
   ],
   "source": [
    "import re \n",
    "p = re.compile('ab*') \n",
    "print(p.findall(\"ababbaabbb\")) \n"
   ]
  },
  {
   "cell_type": "markdown",
   "metadata": {},
   "source": [
    "### Understanding the Output: \n",
    "\n",
    "- Our RE is ab*, which ‘a’ accompanied by any no. of ‘b’s, starting from 0.\n",
    "- Output ‘ab’, is valid because of single ‘a’ accompanied by single ‘b’.\n",
    "- Output ‘abb’, is valid because of single ‘a’ accompanied by 2 ‘b’.\n",
    "- Output ‘a’, is valid because of single ‘a’ accompanied by 0 ‘b’.\n",
    "- Output ‘abbb’, is valid because of single ‘a’ accompanied by 3 ‘b’."
   ]
  },
  {
   "cell_type": "markdown",
   "metadata": {},
   "source": [
    "### 3. re.split() \n",
    "\n",
    "Split string by the occurrences of a character or a pattern, upon finding that pattern, the remaining characters from the string are returned as part of the resulting list. "
   ]
  },
  {
   "cell_type": "markdown",
   "metadata": {},
   "source": [
    "### Syntax : \n",
    "\n",
    "re.split(pattern, string, maxsplit=0, flags=0)"
   ]
  },
  {
   "cell_type": "markdown",
   "metadata": {},
   "source": [
    "### Example 1:\n",
    "\n",
    "Splits a string using non-word characters and spaces as delimiters, returning \n",
    "\n",
    "words: ['Words', 'words', 'Words']. Considers apostrophes as non-word \n",
    "\n",
    "characters: ['Word', 's', 'words', 'Words']. Splits using non-word characters and \n",
    "\n",
    "digits: ['On', '12th', 'Jan', '2016', 'at', '11', '02', 'AM']. Splits using \n",
    "\n",
    "digits as the delimiter: ['On ', 'th Jan ', ', at ', ':', ' AM'].\n",
    "\n",
    "\n"
   ]
  },
  {
   "cell_type": "markdown",
   "metadata": {},
   "source": []
  },
  {
   "cell_type": "code",
   "execution_count": 23,
   "metadata": {},
   "outputs": [
    {
     "name": "stdout",
     "output_type": "stream",
     "text": [
      "['Words', 'words', 'Words']\n",
      "['Word', 's', 'words', 'Words']\n",
      "['On', '12th', 'Jan', '2016', 'at', '11', '02', 'AM']\n",
      "['On ', 'th Jan ', ', at ', ':', ' AM']\n"
     ]
    }
   ],
   "source": [
    "from re import split \n",
    "\n",
    "print(split('\\W+', 'Words, words , Words')) \n",
    "print(split('\\W+', \"Word's words Words\")) \n",
    "print(split('\\W+', 'On 12th Jan 2016, at 11:02 AM')) \n",
    "print(split('\\d+', 'On 12th Jan 2016, at 11:02 AM')) \n"
   ]
  },
  {
   "cell_type": "markdown",
   "metadata": {},
   "source": [
    "### Example 2:\n",
    "\n",
    "First statement splits the string at the first occurrence of one or more digits: ['On ', 'th Jan 2016, at 11:02 AM']. second splits the string using lowercase letters a to f as delimiters, case-insensitive: ['', 'y, ', 'oy oh ', 'oy, ', 'ome here']. Third splits the string using lowercase letters a to f as delimiters, case-sensitive: ['', 'ey, Boy oh ', 'oy, ', 'ome here']."
   ]
  },
  {
   "cell_type": "code",
   "execution_count": 24,
   "metadata": {},
   "outputs": [
    {
     "name": "stdout",
     "output_type": "stream",
     "text": [
      "['On ', 'th Jan 2016, at 11:02 AM']\n",
      "['', 'y, ', 'oy oh ', 'oy, ', 'om', ' h', 'r', '']\n",
      "['A', 'y, Boy oh ', 'oy, ', 'om', ' h', 'r', '']\n"
     ]
    }
   ],
   "source": [
    "import re \n",
    "print(re.split('\\d+', 'On 12th Jan 2016, at 11:02 AM', 1)) \n",
    "print(re.split('[a-f]+', 'Aey, Boy oh boy, come here', flags=re.IGNORECASE)) \n",
    "print(re.split('[a-f]+', 'Aey, Boy oh boy, come here')) \n"
   ]
  },
  {
   "cell_type": "markdown",
   "metadata": {},
   "source": [
    "### 4. re.sub() \n",
    "The ‘sub’ in the function stands for SubString, a certain regular expression pattern is searched in the given string(3rd parameter), and upon finding the substring pattern is replaced by repl(2nd parameter), count checks and maintains the number of times this occurs. \n",
    "\n",
    "Syntax:\n",
    "\n",
    " re.sub(pattern, repl, string, count=0, flags=0)"
   ]
  },
  {
   "cell_type": "markdown",
   "metadata": {},
   "source": [
    "### Example 1:\n",
    "\n",
    "- First statement replaces all occurrences of ‘ub’ with ‘~*’ (case-insensitive): 'S~*ject has ~*er booked already'.\n",
    "- Second statement replaces all occurrences of ‘ub’ with ‘~*’ (case-sensitive): 'S~*ject has Uber booked already'.\n",
    "- Third statement replaces the first occurrence of ‘ub’ with ‘~*’ (case-insensitive): 'S~*ject has Uber booked already'.\n",
    "- Fourth replaces ‘AND’ with ‘ & ‘ (case-insensitive): 'Baked Beans & Spam'."
   ]
  },
  {
   "cell_type": "code",
   "execution_count": 25,
   "metadata": {},
   "outputs": [
    {
     "name": "stdout",
     "output_type": "stream",
     "text": [
      "S~*ject has ~*er booked already\n",
      "S~*ject has Uber booked already\n",
      "S~*ject has Uber booked already\n",
      "Baked Beans & Spam\n"
     ]
    }
   ],
   "source": [
    "import re \n",
    "print(re.sub('ub', '~*', 'Subject has Uber booked already', \n",
    "\t\t\tflags=re.IGNORECASE)) \n",
    "print(re.sub('ub', '~*', 'Subject has Uber booked already')) \n",
    "print(re.sub('ub', '~*', 'Subject has Uber booked already', \n",
    "\t\t\tcount=1, flags=re.IGNORECASE)) \n",
    "print(re.sub(r'\\sAND\\s', ' & ', 'Baked Beans And Spam', \n",
    "\t\t\tflags=re.IGNORECASE)) \n"
   ]
  },
  {
   "cell_type": "markdown",
   "metadata": {},
   "source": []
  },
  {
   "cell_type": "markdown",
   "metadata": {},
   "source": [
    "### 5. re.subn() \n",
    "subn() is similar to sub() in all ways, except in its way of providing output. It returns a tuple with a count of the total of replacement and the new string rather than just the string. \n",
    "\n",
    "Syntax:\n",
    "\n",
    " re.subn(pattern, repl, string, count=0, flags=0)"
   ]
  },
  {
   "cell_type": "markdown",
   "metadata": {},
   "source": [
    "#### Example:\n",
    "\n",
    "re.subn() replaces all occurrences of a pattern in a string and returns a tuple with the modified string and the count of substitutions made. It’s useful for both case-sensitive and case-insensitive substitutions."
   ]
  },
  {
   "cell_type": "code",
   "execution_count": 26,
   "metadata": {},
   "outputs": [
    {
     "name": "stdout",
     "output_type": "stream",
     "text": [
      "('S~*ject has Uber booked already', 1)\n",
      "('S~*ject has ~*er booked already', 2)\n",
      "2\n",
      "S~*ject has ~*er booked already\n"
     ]
    }
   ],
   "source": [
    "\n",
    "\n",
    "import re \n",
    "  \n",
    "print(re.subn('ub', '~*', 'Subject has Uber booked already')) \n",
    "  \n",
    "t = re.subn('ub', '~*', 'Subject has Uber booked already', \n",
    "            flags=re.IGNORECASE) \n",
    "print(t) \n",
    "print(len(t)) \n",
    "print(t[0]) "
   ]
  },
  {
   "cell_type": "markdown",
   "metadata": {},
   "source": [
    "### 6. re.escape()\n",
    "Returns string with all non-alphanumerics backslashed, this is useful if you want to match an arbitrary literal string that may have regular expression metacharacters in it.\n",
    "\n",
    "Syntax:\n",
    "\n",
    "re.escape(string)"
   ]
  },
  {
   "cell_type": "markdown",
   "metadata": {},
   "source": [
    "### Example:\n",
    "\n",
    "re.escape() is used to escape special characters in a string, making it safe to be used as a pattern in regular expressions. It ensures that any characters with special meanings in regular expressions are treated as literal characters.\n",
    "\n"
   ]
  },
  {
   "cell_type": "code",
   "execution_count": 27,
   "metadata": {},
   "outputs": [
    {
     "name": "stdout",
     "output_type": "stream",
     "text": [
      "This\\ is\\ Awesome\\ even\\ 1\\ AM\n",
      "I\\ Asked\\ what\\ is\\ this\\ \\[a\\-9\\],\\ he\\ said\\ \\\t\\ \\^WoW\n"
     ]
    }
   ],
   "source": [
    "import re \n",
    "print(re.escape(\"This is Awesome even 1 AM\")) \n",
    "print(re.escape(\"I Asked what is this [a-9], he said \\t ^WoW\")) \n"
   ]
  },
  {
   "cell_type": "markdown",
   "metadata": {},
   "source": [
    "### 7. re.search()\n",
    "This method either returns None (if the pattern doesn’t match), or a re.MatchObject contains information about the matching part of the string. This method stops after the first match, so this is best suited for testing a regular expression more than extracting data.\n",
    "\n",
    "Example: Searching for an occurrence of the pattern\n",
    "\n",
    "\n",
    "This code uses a regular expression to search for a pattern in the given string. If a match is found, it extracts and prints the matched portions of the string.\n",
    "\n",
    "In this specific example, it searches for a pattern that consists of a month (letters) followed by a day (digits) in the input string “I was born on June 24”. If a match is found, it prints the full match, the month, and the day."
   ]
  },
  {
   "cell_type": "code",
   "execution_count": 28,
   "metadata": {},
   "outputs": [
    {
     "name": "stdout",
     "output_type": "stream",
     "text": [
      "Match at index 14, 21\n",
      "Full match: June 24\n",
      "Month: June\n",
      "Day: 24\n"
     ]
    }
   ],
   "source": [
    "import re \n",
    "regex = r\"([a-zA-Z]+) (\\d+)\"\n",
    "\n",
    "match = re.search(regex, \"I was born on June 24\") \n",
    "if match != None: \n",
    "\tprint (\"Match at index %s, %s\" % (match.start(), match.end())) \n",
    "\tprint (\"Full match: %s\" % (match.group(0))) \n",
    "\tprint (\"Month: %s\" % (match.group(1))) \n",
    "\tprint (\"Day: %s\" % (match.group(2))) \n",
    "\n",
    "else: \n",
    "\tprint (\"The regex pattern does not match.\") \n"
   ]
  },
  {
   "cell_type": "markdown",
   "metadata": {},
   "source": []
  }
 ],
 "metadata": {
  "kernelspec": {
   "display_name": "base",
   "language": "python",
   "name": "python3"
  },
  "language_info": {
   "codemirror_mode": {
    "name": "ipython",
    "version": 3
   },
   "file_extension": ".py",
   "mimetype": "text/x-python",
   "name": "python",
   "nbconvert_exporter": "python",
   "pygments_lexer": "ipython3",
   "version": "3.11.7"
  }
 },
 "nbformat": 4,
 "nbformat_minor": 2
}
