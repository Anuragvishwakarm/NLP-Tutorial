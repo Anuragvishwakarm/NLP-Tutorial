{
 "cells": [
  {
   "cell_type": "markdown",
   "metadata": {},
   "source": [
    "## Extracting email addresses using regular expressions in Python"
   ]
  },
  {
   "cell_type": "markdown",
   "metadata": {},
   "source": [
    "Let suppose a situation in which you have to read some specific data like phone numbers, email addresses, dates, a collection of words etc. How can you do this in a very efficient manner?The Best way to do this by Regular Expression.\n",
    "\n",
    "Let take an example in which we have to find out only email from the given input by Regular Expression.\n",
    "Examples:"
   ]
  },
  {
   "cell_type": "markdown",
   "metadata": {},
   "source": [
    "Input  : Hello shubhamg199630@gmail.com Rohit neeraj@gmail.com\n",
    "\n",
    "Output : shubhamg199630@gmail.com neeraj@gmail.com\n",
    "\n",
    "Here we have only selected email from the given input string.\n",
    "\n",
    "Input : My 2 favourite numbers are 7 and 10\n",
    "\n",
    "Output :2 7 10\n",
    "\n",
    "Here we have selected only digits."
   ]
  },
  {
   "cell_type": "markdown",
   "metadata": {},
   "source": [
    "### Regular Expression–\n",
    "Regular expression is a sequence of character(s) mainly used to find and replace patterns in a string or file.\n",
    "\n",
    "So we can say that the task of searching and extracting is so common that Python has a very powerful library called regular expressions that handles many of these tasks quite elegantly."
   ]
  },
  {
   "cell_type": "markdown",
   "metadata": {},
   "source": []
  },
  {
   "cell_type": "markdown",
   "metadata": {},
   "source": [
    "| **Symbol**  | **Usage**                                                                 |\n",
    "|-------------|---------------------------------------------------------------------------|\n",
    "| `$`         | Matches the end of the line                                               |\n",
    "| `\\s`        | Matches whitespace                                                        |\n",
    "| `\\S`        | Matches any non-whitespace character                                      |\n",
    "| `*`         | Repeats a character zero or more times                                    |\n",
    "| `\\S`        | Matches any non-whitespace character                                      |\n",
    "| `*?`        | Repeats a character zero or more times (non-greedy)                       |\n",
    "| `+`         | Repeats a character one or more times                                     |\n",
    "| `+?`        | Repeats a character one or more times (non-greedy)                        |\n",
    "| `[aeiou]`   | Matches a single character in the listed set                              |\n",
    "| `[^XYZ]`    | Matches a single character not in the listed set                          |\n",
    "| `[a-z0-9]`  | The set of characters can include a range                                 |\n",
    "| `(`         | Indicates where string extraction is to start                             |\n",
    "| `)`         | Indicates where string extraction is to end                               |\n"
   ]
  },
  {
   "cell_type": "code",
   "execution_count": 1,
   "metadata": {},
   "outputs": [
    {
     "name": "stdout",
     "output_type": "stream",
     "text": [
      "['2', '7', '10']\n"
     ]
    }
   ],
   "source": [
    "# Python program to extract numeric digit \n",
    "# from A string by regular expression... \n",
    "\n",
    "# Importing module required for regular \n",
    "# expressions \n",
    "import re \n",
    "\n",
    "# Example String \n",
    "s = 'My 2 favourite numbers are 7 and 10'\n",
    "\n",
    "# find all function to select all digit from 0 \n",
    "# to 9 [0-9] for numeric Letter in the String \n",
    "# + for repeats a character one or more times \n",
    "lst = re.findall('[0-9]+', s)\t \n",
    "\n",
    "# Printing of List \n",
    "print(lst) \n"
   ]
  },
  {
   "cell_type": "code",
   "execution_count": 2,
   "metadata": {},
   "outputs": [
    {
     "name": "stdout",
     "output_type": "stream",
     "text": [
      "['shubhamg199630@gmail.com', 'priya@yahoo.com']\n"
     ]
    }
   ],
   "source": [
    "# Python program to extract emails From \n",
    "# the String By Regular Expression. \n",
    "\n",
    "# Importing module required for regular \n",
    "# expressions \n",
    "import re \n",
    "\n",
    "# Example string \n",
    "s = \"\"\"Hello from shubhamg199630@gmail.com \n",
    "\t\tto priya@yahoo.com about the meeting @2PM\"\"\"\n",
    "\n",
    "# \\S matches any non-whitespace character \n",
    "# @ for as in the Email \n",
    "# + for Repeats a character one or more times \n",
    "lst = re.findall('\\S+@\\S+', s)\t \n",
    "\n",
    "# Printing of List \n",
    "print(lst) \n"
   ]
  }
 ],
 "metadata": {
  "kernelspec": {
   "display_name": "base",
   "language": "python",
   "name": "python3"
  },
  "language_info": {
   "codemirror_mode": {
    "name": "ipython",
    "version": 3
   },
   "file_extension": ".py",
   "mimetype": "text/x-python",
   "name": "python",
   "nbconvert_exporter": "python",
   "pygments_lexer": "ipython3",
   "version": "3.11.7"
  }
 },
 "nbformat": 4,
 "nbformat_minor": 2
}
