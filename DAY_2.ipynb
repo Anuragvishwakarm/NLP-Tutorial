{
 "cells": [
  {
   "cell_type": "markdown",
   "metadata": {},
   "source": [
    "## Regex Tutorial – How to write Regular Expressions?\n"
   ]
  },
  {
   "cell_type": "markdown",
   "metadata": {},
   "source": []
  },
  {
   "cell_type": "markdown",
   "metadata": {},
   "source": [
    "- A regular expression (regex) is a sequence of characters that define a search pattern. Here’s how to write regular expressions:\n",
    "\n",
    "    - Start by understanding the special characters used in regex, such as “.”, “*”, “+”, “?”, and more.\n",
    "    - Choose a programming language or tool that supports regex, such as Python, Perl, or grep.\n",
    "    - Write your pattern using the special characters and literal characters.\n",
    "    - Use the appropriate function or method to search for the pattern in a string."
   ]
  },
  {
   "cell_type": "markdown",
   "metadata": {},
   "source": [
    "### Examples:"
   ]
  },
  {
   "cell_type": "markdown",
   "metadata": {},
   "source": []
  },
  {
   "cell_type": "markdown",
   "metadata": {},
   "source": [
    "<!-- ### Examples: -->\n",
    "- To match a sequence of literal characters, simply write those characters in the pattern.\n",
    "- To match a single character from a set of possibilities, use square brackets, e.g. [0123456789] matches any digit.\n",
    "- To match zero or more occurrences of the preceding expression, use the star (*) symbol.\n",
    "- To match one or more occurrences of the preceding expression, use the plus (+) symbol.\n",
    "- It is important to note that regex can be complex and difficult to read, so it is recommended to use tools like - - - regex testers to debug and optimize your patterns."
   ]
  },
  {
   "cell_type": "markdown",
   "metadata": {},
   "source": [
    "## What is a regular expression and what makes it so important? "
   ]
  },
  {
   "cell_type": "markdown",
   "metadata": {},
   "source": [
    "Regex is used in Google Analytics in URL matching in supporting search and replaces in most popular editors like Sublime, Notepad++, Brackets, Google Docs, and Microsoft Word."
   ]
  },
  {
   "cell_type": "markdown",
   "metadata": {},
   "source": []
  },
  {
   "cell_type": "markdown",
   "metadata": {},
   "source": [
    "- Example :  Regular expression for an email address :\n",
    "    - ^([a-zA-Z0-9_\\-\\.]+)@([a-zA-Z0-9_\\-\\.]+)\\.([a-zA-Z]{2,5})$ "
   ]
  },
  {
   "cell_type": "markdown",
   "metadata": {},
   "source": [
    "he above regular expression can be used for checking if a given set of characters is an email address or not."
   ]
  },
  {
   "cell_type": "markdown",
   "metadata": {},
   "source": []
  },
  {
   "cell_type": "markdown",
   "metadata": {},
   "source": [
    "## How to write regular expressions?"
   ]
  },
  {
   "cell_type": "markdown",
   "metadata": {},
   "source": [
    "There are certain elements  used to write regular expressions as mentioned below:\n",
    "\n",
    "### 1. Repeaters (  *, +, and { } )  \n",
    "These symbols act as repeaters and tell the computer that the preceding character is to be used for more than just one time.\n",
    "\n",
    "### 2. The asterisk symbol ( * )\n",
    "It tells the computer to match the preceding character (or set of characters) for 0 or more times (upto infinite)."
   ]
  },
  {
   "cell_type": "markdown",
   "metadata": {},
   "source": [
    "- Example : The regular expression ab*c will give ac, abc, abbc, abbbc….and so on "
   ]
  },
  {
   "cell_type": "markdown",
   "metadata": {},
   "source": [
    "### 3. The Plus symbol ( + ) \n",
    "It tells the computer to repeat the preceding character (or set of characters) at atleast one or more times(up to infinite)."
   ]
  },
  {
   "cell_type": "markdown",
   "metadata": {},
   "source": [
    "- Example : The regular expression ab+c will give abc, abbc,\n",
    "abbbc, … and so on."
   ]
  },
  {
   "cell_type": "markdown",
   "metadata": {},
   "source": [
    "### 4. The curly braces { … } \n",
    "It tells the computer to repeat the preceding character (or set of characters) for as many times as the value inside this bracket."
   ]
  },
  {
   "cell_type": "markdown",
   "metadata": {},
   "source": [
    "- Example : {2} means that the preceding character is to be repeated 2 \n",
    "times, {min,} means the preceding character is matches min or  more \n",
    "times. {min,max} means that the preceding character is repeated at\n",
    "least min & at most max times."
   ]
  },
  {
   "cell_type": "markdown",
   "metadata": {},
   "source": [
    "### 5. Wildcard ( . ) \n",
    "The dot symbol can take the place of any other symbol, that is why it is called the wildcard character."
   ]
  },
  {
   "cell_type": "markdown",
   "metadata": {},
   "source": [
    "- Example : \n",
    "The Regular expression .* will tell the computer that any character\n",
    "can be used any number of times."
   ]
  },
  {
   "cell_type": "markdown",
   "metadata": {},
   "source": [
    "### 6. Optional character ( ? ) \n",
    "This symbol tells the computer that the preceding character may or may not be present in the string to be matched."
   ]
  },
  {
   "cell_type": "markdown",
   "metadata": {},
   "source": [
    "- Example : \n",
    "We may write the format for document file as – “docx?”\n",
    "The ‘?’ tells the computer that x may or may not be \n",
    "present in the name of file format."
   ]
  },
  {
   "cell_type": "markdown",
   "metadata": {},
   "source": [
    "### 7. The caret ( ^ ) symbol ( Setting position for the match )\n",
    "The caret symbol tells the computer that the match must start at the beginning of the string or line."
   ]
  },
  {
   "cell_type": "markdown",
   "metadata": {},
   "source": [
    "- Example : ^\\d{3} will match with patterns like \"901\" in \"901-333-\"."
   ]
  },
  {
   "cell_type": "markdown",
   "metadata": {},
   "source": [
    "### 8.  The dollar ( $ ) symbol \n",
    "\n"
   ]
  },
  {
   "cell_type": "markdown",
   "metadata": {},
   "source": [
    "It tells the computer that the match must occur at the end of the string or before \\n at the end of the line or string.\n"
   ]
  },
  {
   "cell_type": "markdown",
   "metadata": {},
   "source": [
    "### 9. Character Classes "
   ]
  },
  {
   "cell_type": "markdown",
   "metadata": {},
   "source": []
  },
  {
   "cell_type": "markdown",
   "metadata": {},
   "source": [
    "A character class matches any one of a set of characters. It is used to match the most basic element of a language like a letter, a digit, a space, a symbol, etc. "
   ]
  },
  {
   "cell_type": "markdown",
   "metadata": {},
   "source": [
    "- \\s: matches any whitespace characters such as space and tab.\n",
    "- \\S: matches any non-whitespace characters.\n",
    "- \\d: matches any digit character.\n",
    "- \\D: matches any non-digit characters.\n",
    "- \\w : matches any word character (basically alpha-numeric)\n",
    "- \\W: matches any non-word character.\n",
    "- \\b: matches any word boundary (this would include spaces, dashes, commas, semi-colons, etc.\n",
    "[set_of_characters]: Matches any single character in set_of_characters. By default, the match is case-sensitive."
   ]
  },
  {
   "cell_type": "markdown",
   "metadata": {},
   "source": []
  },
  {
   "cell_type": "markdown",
   "metadata": {},
   "source": [
    "Example : [abc] will match characters a,b and c in any string."
   ]
  },
  {
   "cell_type": "markdown",
   "metadata": {},
   "source": [
    "#### 10. [^set_of_characters] Negation: \n",
    "Matches any single character that is not in set_of_characters. By default, the match is case-sensitive."
   ]
  },
  {
   "cell_type": "markdown",
   "metadata": {},
   "source": [
    "Example : [^abc] will match any character except a,b,c ."
   ]
  },
  {
   "cell_type": "markdown",
   "metadata": {},
   "source": [
    "#### 11. [first-last] Character range: \n",
    "Matches any single character in the range from first to last.\n",
    "\n",
    "Example : [a-zA-z] will match any character from a to z or A to Z."
   ]
  },
  {
   "cell_type": "markdown",
   "metadata": {},
   "source": [
    "#### 12. The Escape Symbol (  \\  ) \n",
    "If you want to match for the actual ‘+’, ‘.’ etc characters, add a backslash( \\ ) before that character. This will tell the computer to treat the following character as a search character and consider it for a matching pattern.\n",
    "\n",
    "Example : \\d+[\\+-x\\*]\\d+ will match patterns like \"2+2\"\n",
    "and \"3*9\" in \"(2+2) * 3*9\"."
   ]
  },
  {
   "cell_type": "markdown",
   "metadata": {},
   "source": [
    "#### 13. Grouping Characters ( ) \n",
    "A set of different symbols of a regular expression can be grouped together to act as a single unit and behave as a block, for this, you need to wrap the regular expression in the parenthesis( ).\n",
    "\n",
    "Example : ([A-Z]\\w+) contains two different elements of the regular \n",
    "expression combined together. This expression will match any pattern \n",
    "containing uppercase letter followed by any character."
   ]
  },
  {
   "cell_type": "markdown",
   "metadata": {},
   "source": [
    "#### 14. Vertical Bar (  |  ) \n",
    "Matches any one element separated by the vertical bar (|) character.\n",
    "\n",
    "Example :  th(e|is|at) will match words - the, this and that."
   ]
  },
  {
   "cell_type": "markdown",
   "metadata": {},
   "source": [
    "#### 15. \\number \n",
    "Backreference: allows a previously matched sub-expression(expression captured or enclosed within circular brackets ) to be identified subsequently in the same regular expression. \\n means that group enclosed within the n-th bracket will be repeated at current position.\n",
    "\n",
    "Example : ([a-z])\\1 will match “ee” in Geek because the character \n",
    "at second position is same as character at position 1 of the match."
   ]
  },
  {
   "cell_type": "markdown",
   "metadata": {},
   "source": [
    "#### 16. Comment ( ?# comment ) \n",
    "Inline comment: The comment ends at the first closing parenthesis.\n",
    "\n",
    "Example : \\bA(?#This is an inline comment)\\w+\\b"
   ]
  },
  {
   "cell_type": "markdown",
   "metadata": {},
   "source": [
    "#### 17. # [to end of line] \n",
    "X-mode comment. The comment starts at an unescaped # and continues to the end of the line.\n",
    "\n",
    "Example :  (?x)\\bA\\w+\\b#Matches words starting with A"
   ]
  },
  {
   "cell_type": "markdown",
   "metadata": {},
   "source": []
  }
 ],
 "metadata": {
  "language_info": {
   "name": "python"
  }
 },
 "nbformat": 4,
 "nbformat_minor": 2
}
