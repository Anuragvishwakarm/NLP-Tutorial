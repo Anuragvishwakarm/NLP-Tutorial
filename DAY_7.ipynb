{
 "cells": [
  {
   "cell_type": "markdown",
   "metadata": {},
   "source": [
    "### Python NLTK | nltk.WhitespaceTokenizer"
   ]
  },
  {
   "cell_type": "markdown",
   "metadata": {},
   "source": [
    "With the help of **nltk.tokenize.WhitespaceTokenizer()** method, we are able to extract the tokens from string of words or sentences without **whitespaces, new line and tabs** by using tokenize.WhitespaceTokenizer() method."
   ]
  },
  {
   "cell_type": "markdown",
   "metadata": {},
   "source": [
    "**Syntax** : tokenize.WhitespaceTokenizer()\n",
    "\n",
    "**Return : Return the tokens from a string**"
   ]
  },
  {
   "cell_type": "markdown",
   "metadata": {},
   "source": []
  },
  {
   "cell_type": "markdown",
   "metadata": {},
   "source": [
    "**Example #1 :**\n",
    "In this example we can see that by using tokenize.WhitespaceTokenizer() method, we are able to extract the tokens from stream of words."
   ]
  },
  {
   "cell_type": "code",
   "execution_count": 2,
   "metadata": {},
   "outputs": [
    {
     "name": "stdout",
     "output_type": "stream",
     "text": [
      "['Python', 'is', 'for', 'py']\n"
     ]
    }
   ],
   "source": [
    "# import WhitespaceTokenizer() method from nltk \n",
    "from nltk.tokenize import WhitespaceTokenizer \n",
    "\t\n",
    "# Create a reference variable for Class WhitespaceTokenizer \n",
    "tk = WhitespaceTokenizer() \n",
    "\t\n",
    "# Create a string input \n",
    "py = \"Python \\nis\\t for py\"\n",
    "\t\n",
    "# Use tokenize method \n",
    "geek = tk.tokenize(py) \n",
    "\t\n",
    "print(geek) \n"
   ]
  },
  {
   "cell_type": "markdown",
   "metadata": {},
   "source": [
    "**Example #2 :**"
   ]
  },
  {
   "cell_type": "code",
   "execution_count": 3,
   "metadata": {},
   "outputs": [
    {
     "name": "stdout",
     "output_type": "stream",
     "text": [
      "['The', 'price', 'of', 'burger', 'in', 'BurgerKing', 'is', 'Rs.36.']\n"
     ]
    }
   ],
   "source": [
    "# import WhitespaceTokenizer() method from nltk \n",
    "from nltk.tokenize import WhitespaceTokenizer \n",
    "\t\n",
    "# Create a reference variable for Class WhitespaceTokenizer \n",
    "tk = WhitespaceTokenizer() \n",
    "\t\n",
    "# Create a string input \n",
    "gfg = \"The price\\t of burger \\nin BurgerKing is Rs.36.\\n\"\n",
    "\t\n",
    "# Use tokenize method \n",
    "geek = tk.tokenize(gfg) \n",
    "\t\n",
    "print(geek) \n"
   ]
  },
  {
   "cell_type": "code",
   "execution_count": null,
   "metadata": {},
   "outputs": [],
   "source": []
  }
 ],
 "metadata": {
  "kernelspec": {
   "display_name": "base",
   "language": "python",
   "name": "python3"
  },
  "language_info": {
   "codemirror_mode": {
    "name": "ipython",
    "version": 3
   },
   "file_extension": ".py",
   "mimetype": "text/x-python",
   "name": "python",
   "nbconvert_exporter": "python",
   "pygments_lexer": "ipython3",
   "version": "3.11.7"
  }
 },
 "nbformat": 4,
 "nbformat_minor": 2
}
