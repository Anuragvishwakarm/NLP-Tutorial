{
 "cells": [
  {
   "cell_type": "markdown",
   "metadata": {},
   "source": [
    "## What is NLP?\n"
   ]
  },
  {
   "cell_type": "markdown",
   "metadata": {},
   "source": [
    "NLP stands for Natural Language Processing. It is the branch of Artificial Intelligence that gives the ability to machine understand and process human languages. Human languages can be in the form of text or audio format."
   ]
  },
  {
   "cell_type": "markdown",
   "metadata": {},
   "source": [
    "## History of NLP\n"
   ]
  },
  {
   "cell_type": "markdown",
   "metadata": {},
   "source": [
    "Natural Language Processing started in 1950 When Alan Mathison Turing published an article in the name Computing Machinery and Intelligence. It is based on Artificial intelligence. It talks about automatic interpretation and generation of natural language. As the technology evolved, different approaches have come to deal with NLP tasks."
   ]
  },
  {
   "cell_type": "markdown",
   "metadata": {},
   "source": [
    "- Heuristics-Based NLP: = This is the initial approach of NLP. It is based on defined rules. Which comes from domain knowledge and expertise. Example: regex"
   ]
  },
  {
   "cell_type": "markdown",
   "metadata": {},
   "source": [
    "- Statistical Machine learning-based NLP:  It is based on statistical rules and machine learning algorithms. In this approach, algorithms are applied to the data and learned from the data, and applied to various tasks. Examples: Naive Bayes, support vector machine (SVM), hidden Markov model (HMM), etc."
   ]
  },
  {
   "cell_type": "markdown",
   "metadata": {},
   "source": [
    "- Neural Network-based NLP: This is the latest approach that comes with the evaluation of neural network-based learning, known as Deep learning. It provides good accuracy, but it is a very data-hungry and time-consuming approach. It requires high computational power to train the model. Furthermore, it is based on neural network architecture. Examples: Recurrent neural networks (RNNs), Long short-term memory networks (LSTMs), Convolutional neural networks (CNNs), Transformers, etc."
   ]
  },
  {
   "cell_type": "markdown",
   "metadata": {},
   "source": []
  },
  {
   "cell_type": "markdown",
   "metadata": {},
   "source": [
    "## Components of NLP"
   ]
  },
  {
   "cell_type": "markdown",
   "metadata": {},
   "source": [
    "There are two components of Natural Language Processing:\n",
    "\n",
    "- Natural Language Understanding\n",
    "- Natural Language Generation"
   ]
  },
  {
   "cell_type": "markdown",
   "metadata": {},
   "source": [
    "## Applications of NLP\n",
    "The applications of Natural Language Processing are as follows:\n",
    "\n",
    "- Text and speech processing like-Voice assistants – Alexa, Siri, etc.\n",
    "- Text classification like Grammarly, Microsoft Word, and Google Docs\n",
    "- Information extraction like-Search engines like DuckDuckGo, Google\n",
    "- Chatbot and Question Answering like:- website bots\n",
    "- Language Translation like:- Google Translate\n",
    "- Text summarization "
   ]
  },
  {
   "cell_type": "markdown",
   "metadata": {},
   "source": [
    "## Phases of Natural Language Processing\n",
    "\n"
   ]
  },
  {
   "cell_type": "code",
   "execution_count": 1,
   "metadata": {},
   "outputs": [],
   "source": [
    "from IPython.display import Image"
   ]
  },
  {
   "cell_type": "markdown",
   "metadata": {},
   "source": []
  },
  {
   "cell_type": "code",
   "execution_count": 3,
   "metadata": {},
   "outputs": [
    {
     "data": {
      "image/png": "[encoded data removed]",
      "text/plain": [
       "<IPython.core.display.Image object>"
      ]
     },
     "execution_count": 3,
     "metadata": {},
     "output_type": "execute_result"
    }
   ],
   "source": [
    "Image(filename='image/Phases-of-Natural-Language-Processing.png')"
   ]
  },
  {
   "cell_type": "markdown",
   "metadata": {},
   "source": [
    "## NLP Libraries\n",
    "- NLTK\n",
    "- Spacy\n",
    "- Gensim\n",
    "- fastText\n",
    "- Stanford toolkit(Glove)\n"
   ]
  },
  {
   "cell_type": "markdown",
   "metadata": {},
   "source": [
    "## Classical Approaches\n",
    "Classical Approaches to Natural Language Processing\n",
    "\n"
   ]
  },
  {
   "cell_type": "markdown",
   "metadata": {},
   "source": [
    "- Text Preprocessing\n",
    "     - Regular Expressions\n",
    "        - How to write Regular Expressions?\n",
    "        - Properties of Regular expressions\n",
    "        - Text Preprocessing using RE\n",
    "        - Regular Expression\n",
    "        - Email Extraction using RE\n",
    "    - Tokenization\n",
    "        - White Space Tokenization\n",
    "        - Dictionary Based Tokenization\n",
    "        - Rule-Based Tokenization\n",
    "        - Regular Expression Tokenizer\n",
    "        - Penn Treebank Tokenization\n",
    "        - Spacy Tokenizer\n",
    "        - Subword Tokenization\n",
    "        - Tokenization with Textblob\n"
   ]
  },
  {
   "cell_type": "markdown",
   "metadata": {},
   "source": [
    "- Tokenize text using NLTK in python\n",
    "- How tokenizing text, sentences, and words works\n",
    "- Lemmatization\n",
    "- Stemming\n",
    "    - Types\n",
    "        - Porter Stemmer\n",
    "        - Lovins Stemmer\n",
    "        - Dawson Stemmer\n",
    "        - Krovetz Stemmer\n",
    "        - Xerox Stemmer\n",
    "- Stopwords removal\n",
    "    - Removing stop words with NLTK in Python\n",
    "- Parts of Speech (POS)\n",
    "    - Part of Speech – Default Tagging\n",
    "    - Part of speech tagging – word corpus\n",
    "    - Part of Speech Tagging with Stop words using NLTK in python\n",
    "    - Part of Speech Tagging using TextBlob\n",
    "- Text Normalization"
   ]
  },
  {
   "cell_type": "markdown",
   "metadata": {},
   "source": [
    "- Text Vectorization or Encoding:\n",
    "    - vector space model (VSM)\n",
    "    - Words and vectors\n",
    "    - Cosine similarity\n",
    "    - Basic Text Vectorization approach:\n",
    "        - One-Hot Encoding\n",
    "        - Byte-Pair Encoding (BPE)\n",
    "        - Bag of words (BOW)\n",
    "        - N-Grams\n",
    "        - Term frequency Inverse Document Frequency (TFIDF)\n",
    "        - N-Gram Language Modelling with NLTK\n",
    "\n",
    "    - Distributed Representations:\n",
    "    - Word Embeddings\n",
    "    - Pre-Trained Word Embeddings\n",
    "        - Word Embedding using Word2Vec\n",
    "        - Finding the Word Analogy from given words using Word2Vec embeddings\n",
    "        - GloVe\n",
    "        - fasttext\n",
    "    - Train Own Word Embeddings\n",
    "        - Continuous bag of words (CBOW)\n",
    "        - SkipGram\n",
    "    - Doc2Vec\n",
    "\n",
    "    - Universal Text Representations\n",
    "        - Embeddings from Language Models (ELMo)\n",
    "        - Bidirectional Encoder Representations from Transformers (BERT)\n",
    "    - Embeddings Visualizations\n",
    "        - t-sne (t-distributed Stochastic Neighbouring Embedding)\n",
    "        - TextEvaluator\n",
    "    - Embeddings semantic properties"
   ]
  },
  {
   "cell_type": "markdown",
   "metadata": {},
   "source": [
    "- Distributed Representations:\n",
    "    - Word Embeddings\n",
    "    - Pre-Trained Word Embeddings\n",
    "        - Word Embedding using Word2Vec\n",
    "        - Finding the Word Analogy from given words using Word2Vec embeddings\n",
    "        - GloVe\n",
    "        - fasttext\n",
    "    - Train Own Word Embeddings\n",
    "        - Continuous bag of words (CBOW)\n",
    "        - SkipGram\n",
    "    - Doc2Vec\n",
    "\n",
    "    Universal Text Representations\n",
    "Embeddings from Language Models (ELMo)\n",
    "Bidirectional Encoder Representations from Transformers (BERT)\n",
    "Embeddings Visualizations\n",
    "t-sne (t-distributed Stochastic Neighbouring Embedding)\n",
    "TextEvaluator\n",
    "Embeddings semantic properties"
   ]
  },
  {
   "cell_type": "markdown",
   "metadata": {},
   "source": [
    "- Semantic Analysis\n",
    "    - What is Sentiment Analysis?\n",
    "    - Understanding Semantic Analysis\n",
    "    - Sentiment classification:\n",
    "        - Naive Bayes Classifiers\n",
    "        - Logistic Regression\n",
    "        - Sentiment Classification Using BERT\n",
    "        - Twitter Sentiment Analysis using textblob"
   ]
  },
  {
   "cell_type": "markdown",
   "metadata": {},
   "source": [
    "- Parts of Speech tagging and Named Entity Recognizations:\n",
    "    - Parts of Speech tagging with NLTK\n",
    "    - Parts of Speech tagging with spacy\n",
    "    - Hidden Markov Model for POS tagging\n",
    "        - Markov Chains\n",
    "        - Hidden Markov Model\n",
    "        - Viterbi Algorithm\n",
    "    - Conditional Random Fields (CRFs) \n",
    "        - Conditional Random Fields (CRFs)  for POS tagging\n",
    "    - Named Entity Recognition\n",
    "        - Rule Based Approach\n",
    "        - Named Entity Recognizations"
   ]
  },
  {
   "cell_type": "markdown",
   "metadata": {},
   "source": [
    "- Neural Network for NLP:\n",
    "    - Feedforwards networks for NLP\n",
    "    - Recurrent Neural Networks\n",
    "    - RNN for Text Classifications\n",
    "    - RNN for Sequence Labeling\n",
    "    - Stacked RNNs\n",
    "    - Bidirectional RNNs\n",
    "    - Long Short-Term Memory (LSTM)\n",
    "    - LSTM with Tensorflow\n",
    "    - Bidirectional LSTM\n",
    "    - Gated Recurrent Unit (GRU)\n",
    "    - Sentiment Analysis with RNN,LSTM, GRU\n",
    "    - Emotion Detection using Bidirectional LSTM & GRU\n",
    "    - Transformers for NLP"
   ]
  },
  {
   "cell_type": "markdown",
   "metadata": {},
   "source": [
    "- Transfer Learning for NLP:\n",
    "    - Bidirectional Encoder Representations from Transformers\n",
    "    - RoBERTa\n",
    "    - SpanBERT\n",
    "    - Transfer Learning with Fine-tuning"
   ]
  },
  {
   "cell_type": "markdown",
   "metadata": {},
   "source": [
    "- Information Retrieval\n"
   ]
  },
  {
   "cell_type": "markdown",
   "metadata": {},
   "source": [
    "- Text Generations\n",
    "    - Text Generations introductions"
   ]
  },
  {
   "cell_type": "markdown",
   "metadata": {},
   "source": [
    "- Text summarization\n",
    "    - Extractive Text Summarization using Gensim"
   ]
  },
  {
   "cell_type": "markdown",
   "metadata": {},
   "source": [
    "- Questions – Answering"
   ]
  },
  {
   "cell_type": "markdown",
   "metadata": {},
   "source": [
    "- Chatbot & Dialogue Systems:\n",
    "    - Simple Chat Bot using ChatterBot\n",
    "    - GUI chat application using Tkinter"
   ]
  },
  {
   "cell_type": "markdown",
   "metadata": {},
   "source": [
    "- Machine translation\n",
    "    - Machine translation Introductions\n",
    "    - Statistical Machine Translation Introduction"
   ]
  },
  {
   "cell_type": "markdown",
   "metadata": {},
   "source": [
    "- Phonetics\n",
    "    - Implement Phonetic Search in Python with Soundex Algorithm\n",
    "    - Convert English text into the Phonetics"
   ]
  },
  {
   "cell_type": "markdown",
   "metadata": {},
   "source": [
    "- Speech Recognition and Text-to-Speech\n",
    "    - Convert Text to Speech\n",
    "    - Convert Speech to text and text to Speech\n",
    "    - Speech Recognition using Google Speech API"
   ]
  },
  {
   "cell_type": "markdown",
   "metadata": {},
   "source": [
    "## Empirical and Statistical Approaches"
   ]
  },
  {
   "cell_type": "markdown",
   "metadata": {},
   "source": [
    "- Treebank Annotation \n",
    "- Fundamental Statistical Techniques for NLP\n",
    "- Part-of-Speech Tagging\n",
    "- Rules-based system\n",
    "- Statistical Parsing\n",
    "- Multiword Expressions\n",
    "- Normalized Web Distance and Word Similarity\n",
    "- Word Sense Disambiguation"
   ]
  },
  {
   "cell_type": "markdown",
   "metadata": {},
   "source": [
    "## What are the 4 pillars of NLP?"
   ]
  },
  {
   "cell_type": "markdown",
   "metadata": {},
   "source": [
    "The four main pillars of NLP are 1.) Outcomes, 2.)  Sensory acuity, 3.) behavioural flexibility, and 4.) report"
   ]
  },
  {
   "cell_type": "markdown",
   "metadata": {},
   "source": [
    "### What language is best for natural language processing?\n",
    "Python is considered the best programming language for NLP because of their numerous libraries, simple syntax, and ability to easily integrate with other programming languages."
   ]
  },
  {
   "cell_type": "markdown",
   "metadata": {},
   "source": [
    "### What is the life cycle of NLP?\n",
    "There are four stages included in the life cycle of NLP – development, validation, deployment, and monitoring of the models"
   ]
  },
  {
   "cell_type": "markdown",
   "metadata": {},
   "source": []
  }
 ],
 "metadata": {
  "kernelspec": {
   "display_name": "base",
   "language": "python",
   "name": "python3"
  },
  "language_info": {
   "codemirror_mode": {
    "name": "ipython",
    "version": 3
   },
   "file_extension": ".py",
   "mimetype": "text/x-python",
   "name": "python",
   "nbconvert_exporter": "python",
   "pygments_lexer": "ipython3",
   "version": "3.11.7"
  }
 },
 "nbformat": 4,
 "nbformat_minor": 2
}
