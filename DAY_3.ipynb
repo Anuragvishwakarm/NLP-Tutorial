{
 "cells": [
  {
   "cell_type": "markdown",
   "metadata": {},
   "source": [
    "### Properties of Regular expressions"
   ]
  },
  {
   "cell_type": "markdown",
   "metadata": {},
   "source": [
    "#### Regular expressions :"
   ]
  },
  {
   "cell_type": "markdown",
   "metadata": {},
   "source": [
    "- It is a way of representing regular languages.\n",
    "- The algebraic description for regular languages is done using regular expressions.\n",
    "- They can define the same language that various forms of finite automata can describe.\n",
    "- Regular expressions offer something that finite automata do not, i.e. it is a declarative way to express the strings that we want to accept. They act as input for many systems. They are used for string matching in many systems(Java, python etc.)\n",
    "- For example, Lexical-analyzer generators, such as Lex or Flex."
   ]
  },
  {
   "cell_type": "markdown",
   "metadata": {},
   "source": [
    "The widely used operators in regular expressions are Kleene closure(∗) ,concatenation(.) , Union(+)."
   ]
  },
  {
   "cell_type": "markdown",
   "metadata": {},
   "source": [
    "#### Rules for regular expressions :"
   ]
  },
  {
   "cell_type": "markdown",
   "metadata": {},
   "source": [
    "- The set of regular expressions is defined by the following rules.\n",
    "- Every letter of ∑ can be made into a regular expression, null string, ∈ itself is a regular expression. \n",
    "If r1 and r2 are regular expressions, then (r1), r1.r2, r1+r2, r1*, r1+ are also regular expressions."
   ]
  },
  {
   "cell_type": "markdown",
   "metadata": {},
   "source": [
    "### Example –\n",
    "-  ∑ = {a, b} and r is a regular expression of language made using these symbols "
   ]
  },
  {
   "cell_type": "markdown",
   "metadata": {
    "vscode": {
     "languageId": "latex"
    }
   },
   "source": [
    "| **Regular Language** | **Regular Set**                |\n",
    "|----------------------|--------------------------------|\n",
    "| ∅                    | { }                            |\n",
    "| ∈                    | {∈}                            |\n",
    "| a*                   | {∈, a, aa, aaa, …..}           |\n",
    "| a+ b                 | {a, b}                         |\n",
    "| a.b                  | {ab}                           |\n",
    "| a* + ba              | {∈, a, aa, aaa,…… , ba}        |\n"
   ]
  },
  {
   "cell_type": "markdown",
   "metadata": {
    "vscode": {
     "languageId": "latex"
    }
   },
   "source": [
    "#### Operations performed on regular expressions:"
   ]
  },
  {
   "cell_type": "markdown",
   "metadata": {},
   "source": [
    "##### 1. Union:\n",
    " The union of two regular languages, L1 and L2, which are represented using L1 ∪ L2, is also regular and which represents the set of strings that are either in L1 or L2 or both."
   ]
  },
  {
   "cell_type": "markdown",
   "metadata": {},
   "source": [
    "#### Example:\n",
    "\n",
    "L1 = (1+0).(1+0) = {00 , 10, 11, 01} and \n",
    "L2 = {∈ , 100}\n",
    "then L1 ∪ L2 = {∈, 00, 10, 11, 01, 100}."
   ]
  },
  {
   "cell_type": "markdown",
   "metadata": {},
   "source": [
    "#### 2. Concatenation:"
   ]
  },
  {
   "cell_type": "markdown",
   "metadata": {},
   "source": [
    "The concatenation of two regular languages, L1 and L2, which are represented using L1.L2 is also regular and which represents the set of strings that are formed by taking any string in L1 concatenating it with any string in L2"
   ]
  },
  {
   "cell_type": "markdown",
   "metadata": {},
   "source": [
    "### Example:\n",
    "\n",
    "L1 = { 0,1 } and L2 = { 00, 11} then L1.L2 = {000, 011, 100, 111}.\n",
    "\n"
   ]
  },
  {
   "cell_type": "markdown",
   "metadata": {},
   "source": [
    "#### 3. Kleene closure:\n",
    "\n",
    "If L1 is a regular language, then the Kleene closure i.e. L1* of L1 is also regular and represents the set of those strings which are formed by taking a number of strings from L1 and the same string can be repeated any number of times and concatenating those strings.\n",
    "\n",
    "#### Example:\n",
    "\n",
    "L1 = { 0,1} = {∈, 0, 1, 00, 01, 10, 11 …….} , then L* is all strings possible with symbols 0 and 1 including a null string."
   ]
  },
  {
   "cell_type": "markdown",
   "metadata": {},
   "source": [
    "### Algebraic properties of regular expressions:\n",
    "\n",
    "Kleene closure is an unary operator and Union(+) and concatenation operator(.) are binary operators."
   ]
  },
  {
   "cell_type": "markdown",
   "metadata": {},
   "source": [
    "### 1. Closure:\n",
    "\n",
    "- If r1 and r2 are regular expressions(RE), then \n",
    "\n",
    "    - r1*  is a RE\n",
    "    - r1+r2 is a RE\n",
    "    - r1.r2 is a RE"
   ]
  },
  {
   "cell_type": "markdown",
   "metadata": {},
   "source": [
    "2. Closure laws –\n",
    "\n",
    "    - (r*)* = r*, closing an expression that is already closed does not change the language.\n",
    "    - ∅* = ∈, a string formed by concatenating any number of copies of an empty string is empty itself.\n",
    "    - r+ =  r.r* = r*r, as r* = ∈ + r + rr+ rrr …. and r.r* = r+ rr + rrr ……\n",
    "    - r* = r*+ ∈"
   ]
  },
  {
   "cell_type": "markdown",
   "metadata": {},
   "source": [
    "#### 3. Associativity –\n",
    " If r1, r2, r3 are RE, then \n",
    " i.) r1+ (r2+r3) = (r1+r2) +r3 "
   ]
  },
  {
   "cell_type": "markdown",
   "metadata": {},
   "source": [
    "- For example : r1 = a , r2 = b , r3 = c, then\n",
    "- The resultant regular expression in LHS becomes a+(b+ c) and the regular set for the corresponding RE is {a, b, c}.\n",
    "- for the RE in RHS becomes (a+ b) + c and the regular set for this RE is {a, b, c}, which is same in both cases. Therefore, the associativity property holds for union operator."
   ]
  },
  {
   "cell_type": "markdown",
   "metadata": {},
   "source": []
  },
  {
   "cell_type": "markdown",
   "metadata": {},
   "source": [
    "ii.) r1.(r2.r3)  = (r1.r2).r3"
   ]
  },
  {
   "cell_type": "markdown",
   "metadata": {},
   "source": [
    "- For example – r1 = a , r2 = b , r3 = c\n",
    "- Then the string accepted by RE a.(b.c) is only abc.\n",
    "- The string accepted by RE in RHS is (a.b).c is only abc ,which is  same in both cases. Therefore, the associativity property holds for concatenation operator."
   ]
  },
  {
   "cell_type": "markdown",
   "metadata": {},
   "source": []
  },
  {
   "cell_type": "markdown",
   "metadata": {},
   "source": [
    "#### 4. Identity –\n",
    "In the case of union operators\n",
    "if r+ x = r  ⇒ x= ∅ as r ∪ ∅= r, therefore ∅ is the identity for +.\n",
    "Therefore, ∅ is the identity element for a union operator.\n",
    "In the case of  concatenation operator –\n",
    "if r.x = r , for x= ∈\n",
    "r.∈ = r  ⇒ ∈ is the identity element for concatenation operator(.) ."
   ]
  },
  {
   "cell_type": "markdown",
   "metadata": {},
   "source": [
    "#### 5. Annihilator –\n",
    "\n",
    "- If r+ x = r  ⇒  r ∪ x= x , there is no annihilator for +\n",
    "- In the case of a concatenation operator, r.x = x, when x = ∅, then r.∅ = ∅, therefore ∅ is the annihilator for the (.)operator. For example {a, aa, ab}.{ } = { }"
   ]
  },
  {
   "cell_type": "markdown",
   "metadata": {},
   "source": []
  },
  {
   "cell_type": "markdown",
   "metadata": {},
   "source": [
    "#### 6. Commutative property –\n",
    "If r1, r2 are RE, then \n",
    "\n",
    "- r1+r2 = r2+r1. For example, for r1 =a and r2 =b, then RE a+ b and b+ a are equal.\n",
    "- r1.r2 ≠ r2.r1. For example, for r1 = a and r2 = b, then  RE a.b is not equal to b.a."
   ]
  },
  {
   "cell_type": "markdown",
   "metadata": {},
   "source": [
    "#### 7. Distributed property –\n",
    "If r1, r2, r3 are regular expressions, then \n",
    "\n",
    "- (r1+r2).r3 = r1.r3 + r2.r3  i.e. Right distribution\n",
    "- r1.(r2+ r3) = r1.r2 + r1.r3  i.e. left distribution\n",
    "- (r1.r2) +r3  ≠ (r1+r3)(r2+r3)"
   ]
  },
  {
   "cell_type": "markdown",
   "metadata": {},
   "source": [
    "#### 8. Idempotent law –\n",
    "\n",
    "- r1 + r1 = r1  ⇒  r1 ∪ r1 = r1 , therefore the union operator satisfies idempotent property.\n",
    "- r.r ≠  r ⇒ concatenation operator does not satisfy idempotent property.\n"
   ]
  },
  {
   "cell_type": "markdown",
   "metadata": {},
   "source": [
    "#### 9. Identities for regular expression –\n",
    "There are many identities for the regular expression. Let p, q and r are regular expressions.\n",
    "\n",
    "- ∅ + r = r\n",
    "- ∅.r= r.∅ = ∅\n",
    "- ∈.r = r.∈ =r\n",
    "- ∈* = ∈ and ∅* = ∈\n",
    "- r + r = r\n",
    "- r*.r* = r*\n",
    "- r.r* = r*.r = r+.\n",
    "- (r*)*  =  r*\n",
    "- ∈ +r.r* = r* = ∈ + r.r*\n",
    "- (p.q)*.p = p.(q.p)*\n",
    "- (p + q)* = (p*.q*)* = (p* + q*)*\n",
    "- (p+ q).r= p.r+ q.r and r.(p+q) = r.p + r.q\n"
   ]
  },
  {
   "cell_type": "markdown",
   "metadata": {},
   "source": []
  }
 ],
 "metadata": {
  "kernelspec": {
   "display_name": "base",
   "language": "python",
   "name": "python3"
  },
  "language_info": {
   "codemirror_mode": {
    "name": "ipython",
    "version": 3
   },
   "file_extension": ".py",
   "mimetype": "text/x-python",
   "name": "python",
   "nbconvert_exporter": "python",
   "pygments_lexer": "ipython3",
   "version": "3.11.7"
  }
 },
 "nbformat": 4,
 "nbformat_minor": 2
}
